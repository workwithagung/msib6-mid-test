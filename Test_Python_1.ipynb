{
 "cells": [
  {
   "cell_type": "markdown",
   "id": "87919d68",
   "metadata": {
    "id": "87919d68"
   },
   "source": [
    "### Python 1 : Who is in the third place?"
   ]
  },
  {
   "cell_type": "markdown",
   "id": "c061c30a",
   "metadata": {
    "id": "c061c30a"
   },
   "source": [
    "### Task"
   ]
  },
  {
   "cell_type": "markdown",
   "id": "66fcf833",
   "metadata": {
    "id": "66fcf833"
   },
   "source": [
    "Create a function whose name is ```third_place``` that does the following:\n",
    "\n",
    "Given a list of test score and a list of participants name. The desired output would be the name of the participant who gets the 3rd best score. The rule of determining the order of the best score is as follows:\n",
    "- Higher score is better\n",
    "- In case of multiple participants having the same test score, they can occupy the same ranking value. For example, if 2 participants scored 100, then both of them occupy the first place.\n",
    "\n",
    "The first input of the function is the name list, and the second input to the function is the score list."
   ]
  },
  {
   "cell_type": "markdown",
   "id": "aee24374",
   "metadata": {
    "id": "aee24374"
   },
   "source": [
    "### Example 1:\n",
    "\n",
    "**Input**:\n",
    "- names = [Andi, Budi, Charlie, Dilan, Echa]\n",
    "- score = [80, 90, 95, 100, 85]\n",
    "\n",
    "This means, Andi gets 80, Budi gets 90, Charlie gets 95, Dilan gets 100, and Echa gets 85. The first best score is 100, and Dilan gets it. The second best score is 95, and Charlie gets it. The third best score is 90, and Budi gets it. So, our output should be Budi.\n",
    "\n",
    "**Output**: 'The third winner: Budi'.\n",
    "\n",
    "When we run ```third_place(names, score)```, the output will be 'The third winner: Budi'."
   ]
  },
  {
   "cell_type": "markdown",
   "id": "e85af386",
   "metadata": {
    "id": "e85af386"
   },
   "source": [
    "### Example 2:\n",
    "\n",
    "**Input**:\n",
    "- names = [Andi, Budi, Charlie, Dilan, Echa]\n",
    "- score = [80, 80, 80, 100, 90]\n",
    "\n",
    "This means, Andi, Budi, and Charlie gets 80, Dilan gets 100, and Echa gets 90. The third best score is 80, and our output should list ALL of the participants who get 80.\n",
    "\n",
    "**Output**: 'The third winner: Andi, Budi, Charlie'.\n",
    "\n",
    "When we run ```third_place(names, score)```, the output will be 'The third winner: Andi, Budi, Charlie'."
   ]
  },
  {
   "cell_type": "markdown",
   "id": "bbeb3f41",
   "metadata": {
    "id": "bbeb3f41"
   },
   "source": [
    "### Example 3:\n",
    "\n",
    "**Input**:\n",
    "- names = [Andi, Budi, Charlie, Dilan, Echa, Fanya]\n",
    "- score = [80, 90, 90, 100, 100, 80]\n",
    "\n",
    "The first best score (first winner) is 100 - Dilan and Echa shared this position. The second best score (second winner) is 90 - Budi and Charlie shared this position. The third best score (third winner) is 80, and it is shared by Andi and Fanya. So, our output should be Andi and Fanya.\n",
    "\n",
    "**Output**: 'The third winner: Andi, Fanya'."
   ]
  },
  {
   "cell_type": "markdown",
   "id": "8306d027",
   "metadata": {
    "id": "8306d027"
   },
   "source": [
    "### Space for Work"
   ]
  },
  {
   "cell_type": "code",
   "execution_count": null,
   "id": "ANXQim-Y4rAs",
   "metadata": {
    "id": "ANXQim-Y4rAs"
   },
   "outputs": [],
   "source": [
    "def third_place(names, scores):\n",
    "    sorted_score = sorted(set(scores), reverse=True)\n",
    "    third_winner = [name for name, score in zip(names, scores) if sorted_score.index(score) + 1 == 3]\n",
    "        \n",
    "    return 'The third winner: ' + ', '.join(third_winner)"
   ]
  }
 ],
 "metadata": {
  "colab": {
   "provenance": []
  },
  "kernelspec": {
   "display_name": "Python 3 (ipykernel)",
   "language": "python",
   "name": "python3"
  },
  "language_info": {
   "codemirror_mode": {
    "name": "ipython",
    "version": 3
   },
   "file_extension": ".py",
   "mimetype": "text/x-python",
   "name": "python",
   "nbconvert_exporter": "python",
   "pygments_lexer": "ipython3",
   "version": "3.12.0"
  }
 },
 "nbformat": 4,
 "nbformat_minor": 5
}
